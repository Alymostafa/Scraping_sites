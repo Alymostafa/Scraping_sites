{
 "cells": [
  {
   "cell_type": "code",
   "execution_count": 1,
   "metadata": {},
   "outputs": [],
   "source": [
    "import os \n",
    "from bs4 import BeautifulSoup\n",
    "#import requests\n",
    "from selenium import webdriver\n",
    "from selenium.webdriver.firefox.firefox_binary import FirefoxBinary\n",
    "from selenium.webdriver.chrome.options import Options  \n",
    "from selenium.webdriver.common.keys import Keys\n",
    "from selenium.webdriver.common.by import By\n",
    "from selenium.webdriver.support.wait import WebDriverWait\n",
    "from selenium.webdriver.support import expected_conditions as EC\n",
    "import pandas as pd\n",
    "from pymongo import MongoClient\n",
    "from collections.abc import Iterable\n",
    "import warnings\n",
    "import time\n",
    "import requests\n",
    "import urllib.request as urllib2\n",
    "from bs4 import BeautifulSoup\n",
    "from selenium.webdriver.common.keys import Keys\n",
    "from selenium.common.exceptions import NoSuchElementException\n",
    "from selenium.webdriver.support import expected_conditions\n",
    "from selenium.webdriver.common.action_chains import ActionChains\n",
    "from selenium.common.exceptions import TimeoutException\n"
   ]
  },
  {
   "cell_type": "code",
   "execution_count": 2,
   "metadata": {},
   "outputs": [],
   "source": [
    "options = webdriver.ChromeOptions()\n",
    "options.add_argument('--no-sandbox')\n",
    "options.add_argument('--disable-dev-shm-usage')\n",
    "driver = webdriver.Chrome('/home/omarmohamed/myprojectdir/chromedriver',options=options)\n",
    "driver.get('https://learn.datacamp.com/courses/intro-to-python-for-data-science')\n",
    "\n"
   ]
  },
  {
   "cell_type": "code",
   "execution_count": 3,
   "metadata": {},
   "outputs": [],
   "source": [
    "def setEmail(email):\n",
    "    WebDriverWait(driver,20).until(EC.presence_of_element_located((By.ID,'user_email'))).send_keys(email)\n",
    "    WebDriverWait(driver,20).until(EC.element_to_be_clickable((By.CLASS_NAME,'dc-btn.dc-btn--secondary.dc-btn--block.dc-account-modal__next-btn.js-account-check-email'))).click()\n",
    "# WebDriverWait(driver,20)\n",
    "def setPassword(password):\n",
    "    try:\n",
    "        Xpath='//*[@id=\"user_password\"]'\n",
    "        WebDriverWait(driver,20).until(EC.presence_of_element_located((By.XPATH,Xpath))).send_keys(password)\n",
    "    except EC:\n",
    "        print(\"Error in SetPassord\")\n",
    "#this function doesn't work yet    \n",
    "def login(email,passowrd):\n",
    "    try:\n",
    "        setEmail(email)\n",
    "        setPassword(passowrd)\n",
    "        WebDriverWait(driver,20).until(EC.element_to_be_clickable((By.NAME,\"commit\"))).click()\n",
    "    except NoSuchElementException:\n",
    "        print(\"Error in setting password\")\n",
    "def loginCourse():\n",
    "        WebDriverWait(driver,20).until(EC.element_to_be_clickable((By.NAME,\"commit\"))).click()\n",
    "\n",
    "def signIn():\n",
    "    classname=\"dc-btn.dc-btn--tertiary.dc-u-color-white.js-modal-open.js-sign-in-modal-open.dc-temp-replacement\"\n",
    "    WebDriverWait(driver,20).until(EC.presence_of_element_located((By.CLASS_NAME,classname))).click()"
   ]
  },
  {
   "cell_type": "code",
   "execution_count": 4,
   "metadata": {},
   "outputs": [],
   "source": [
    "def isVideo():\n",
    "    try:\n",
    "        WebDriverWait(driver,20).until(EC.presence_of_element_located((By.CLASS_NAME,\"css-zmlfql-baseStyle-buttonStyle\")))\n",
    "        return True\n",
    "    except TimeoutException:\n",
    "        return False\n",
    "def skipVideo():\n",
    "    WebDriverWait(driver,20).until(EC.presence_of_element_located((By.CLASS_NAME,\"css-zmlfql-baseStyle-buttonStyle\"))).click()\n",
    "\n",
    "    \n",
    "def isAdverAboutMobile():\n",
    "    \n",
    "    try:\n",
    "        adver=driver.find_element_by_class_name(\"mobile-popup.dc-u-pt-24.dc-u-pb-16.dc-u-ph-24\")\n",
    "        if adver:\n",
    "            driver.find_element_by_class_name(\"modal-open\").send_keys(Keys.ESCAPE)\n",
    "        \n",
    "    except NoSuchElementException:\n",
    "        print(\"Error in Adver\")\n",
    "        \n",
    "        "
   ]
  },
  {
   "cell_type": "code",
   "execution_count": 51,
   "metadata": {},
   "outputs": [],
   "source": [
    "def isAExerciseCode():\n",
    "    driver.find_element_by_class_name(\"exercise--instructions.exercise--typography\")\n",
    "    return True\n",
    "\n",
    "def showAnswer():\n",
    "    while(len(driver.find_elements_by_class_name('exercise--show-hint'))):\n",
    "        try:\n",
    "            WebDriverWait(driver,20).until(EC.element_to_be_clickable((By.CLASS_NAME,'exercise--show-hint')))\n",
    "            driver.find_element_by_class_name('exercise--show-hint').click()\n",
    "        except:\n",
    "            continue;\n",
    "\n",
    "def copyAllCode():\n",
    "    contentPartOne=WebDriverWait(driver,20).until(EC.presence_of_all_elements_located((By.CLASS_NAME,\"ace_content\")))[1].text\n",
    "    driver.find_elements_by_class_name(\"ace_text-input\")[1].send_keys(Keys.PAGE_DOWN)\n",
    "    contentPartTow=WebDriverWait(driver,20).until(EC.presence_of_all_elements_located((By.CLASS_NAME,\"ace_content\")))[1].text\n",
    "    return contentPartOne+'\\n'+contentPartTow\n",
    "\n",
    "def modifyString(listOfAnswer):\n",
    "    lastListOfCode=[]\n",
    "    listOfAnswer=listOfAnswer.split('\\n')\n",
    "    pattern=\"[[]-)_*%]]\"\n",
    "    for line in listOfAnswer:\n",
    "        if line[0] in pattern:\n",
    "            continue\n",
    "        else:\n",
    "            lastListOfCode.append(line)\n",
    "    return lastListOfCode\n",
    "\n",
    "def pasteCode(listOfAnswer):\n",
    "    driver.refresh()\n",
    "    elem = WebDriverWait(driver,20).until(EC.presence_of_element_located((By.CLASS_NAME,'ace_text-input')))\n",
    "    #elem.click()\n",
    "    #elem.clear()\n",
    "    elem.send_keys(Keys.CONTROL + \"a\")\n",
    "    elem.send_keys(Keys.DELETE)\n",
    "    listOfAnswer=modifyString(listOfAnswer)\n",
    "    for line in listOfAnswer:\n",
    "        elem.send_keys(line)\n",
    "        elem.send_keys(Keys.SHIFT+Keys.ENTER)\n",
    "    elem.send_keys(Keys.SHIFT+Keys.ARROW_DOWN+Keys.DELETE)\n",
    "    WebDriverWait(driver,50)\n",
    "    \n",
    "def sumbitAnswer():\n",
    "    driver.execute_script('document.getElementsByClassName(\"css-1bm1oy-baseStyle-buttonStyle\")[0].click()')\n",
    "    \n",
    "\n",
    "def continueClick():\n",
    "    driver.execute_script('document.getElementsByClassName(\"dc-btn__content\")[0].click()')\n"
   ]
  },
  {
   "cell_type": "code",
   "execution_count": 14,
   "metadata": {},
   "outputs": [],
   "source": [
    "def isOptions():\n",
    "    options=WebDriverWait(driver,20).until(EC.presence_of_all_elements_located((By.CLASS_NAME,'dc-input-radio__text')))\n",
    "    if options:\n",
    "        return True\n",
    "    \n",
    "def chooseOption():\n",
    "    driver.refresh()\n",
    "    flagDoNothing=0\n",
    "    options=WebDriverWait(driver,20).until(EC.presence_of_all_elements_located((By.CLASS_NAME,'dc-input-radio__text')))\n",
    "    if options:\n",
    "        for indexOfOptions in range(len(options)):\n",
    "            options[indexOfOptions].click()\n",
    "            driver.find_element_by_class_name(\"css-1j5xafh-textStyle-baseTextStyle\").click()"
   ]
  },
  {
   "cell_type": "code",
   "execution_count": 7,
   "metadata": {},
   "outputs": [],
   "source": [
    "setEmail(\"omarmohamed.8809@gmail.com\")"
   ]
  },
  {
   "cell_type": "code",
   "execution_count": 8,
   "metadata": {},
   "outputs": [],
   "source": [
    "setPassword(\"01159681481\")\n",
    "loginCourse()"
   ]
  },
  {
   "cell_type": "code",
   "execution_count": 82,
   "metadata": {},
   "outputs": [],
   "source": [
    "if isVideo():\n",
    "    skipVideo()\n",
    "    isAdverAboutMobile()\n",
    "if isAExerciseCode():\n",
    "    showAnswer()\n",
    "    answerCode=copyAllCode()\n",
    "    pasteCode(answerCode)\n",
    "    sumbitAnswer()\n",
    "    continueClick()\n",
    "if if isOptions():\n",
    "    chooseOption()\n",
    "    sumbitAnswer()\n",
    "    continueClick()\n",
    "    \n"
   ]
  },
  {
   "cell_type": "code",
   "execution_count": 88,
   "metadata": {},
   "outputs": [],
   "source": [
    "\n"
   ]
  }
 ],
 "metadata": {
  "kernelspec": {
   "display_name": "Python 3",
   "language": "python",
   "name": "python3"
  },
  "language_info": {
   "codemirror_mode": {
    "name": "ipython",
    "version": 3
   },
   "file_extension": ".py",
   "mimetype": "text/x-python",
   "name": "python",
   "nbconvert_exporter": "python",
   "pygments_lexer": "ipython3",
   "version": "3.7.3"
  }
 },
 "nbformat": 4,
 "nbformat_minor": 4
}
