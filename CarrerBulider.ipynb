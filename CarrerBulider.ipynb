{
 "cells": [
  {
   "cell_type": "code",
   "execution_count": 1,
   "metadata": {},
   "outputs": [],
   "source": [
    "import os \n",
    "from bs4 import BeautifulSoup\n",
    "#import requests\n",
    "from selenium import webdriver\n",
    "from selenium.webdriver.firefox.firefox_binary import FirefoxBinary\n",
    "from selenium.webdriver.chrome.options import Options  \n",
    "from selenium.webdriver.common.keys import Keys\n",
    "from selenium.webdriver.common.by import By\n",
    "from selenium.webdriver.support.wait import WebDriverWait\n",
    "from selenium.webdriver.support import expected_conditions as EC\n",
    "import pandas as pd\n",
    "from pymongo import MongoClient\n",
    "from collections.abc import Iterable\n",
    "import warnings\n",
    "import time\n",
    "import requests\n",
    "import urllib.request as urllib2\n",
    "from bs4 import BeautifulSoup"
   ]
  },
  {
   "cell_type": "code",
   "execution_count": 2,
   "metadata": {},
   "outputs": [],
   "source": [
    "#connect to DB\n",
    "# Global variables\n",
    "client = MongoClient('localhost', 27017)\n",
    "db = client['elmenus']\n",
    "collection = db['elmenus']\n",
    "# print(cur_path)\n",
    "\n",
    "selenium_driver_path = \"chromedriver\""
   ]
  },
  {
   "cell_type": "code",
   "execution_count": 3,
   "metadata": {},
   "outputs": [],
   "source": [
    "#convert from selnuim web to text \n",
    "def selnuim_to_text(ls):\n",
    "    lis=[]\n",
    "    for i in ls:\n",
    "        lis.append(i.text)\n",
    "    return lis"
   ]
  },
  {
   "cell_type": "code",
   "execution_count": 4,
   "metadata": {},
   "outputs": [],
   "source": [
    "#take all P start with •\n",
    "def clean_req(parh):\n",
    "    q=parh.text.split('\\n')\n",
    "    ad=[]\n",
    "    for i in q:\n",
    "        if \"[*•-]\" in i:\n",
    "            ad.append(i)\n",
    "    return ad\n"
   ]
  },
  {
   "cell_type": "code",
   "execution_count": null,
   "metadata": {},
   "outputs": [],
   "source": []
  },
  {
   "cell_type": "code",
   "execution_count": 5,
   "metadata": {},
   "outputs": [],
   "source": [
    "Flag_stop_jobs=4\n",
    "Flag_id=1\n",
    "Flag_pages_stop=0"
   ]
  },
  {
   "cell_type": "code",
   "execution_count": null,
   "metadata": {},
   "outputs": [
    {
     "name": "stdout",
     "output_type": "stream",
     "text": [
      "25\n",
      "2\n",
      "22\n",
      "3\n",
      "22\n"
     ]
    }
   ],
   "source": [
    "options = webdriver.ChromeOptions()\n",
    "#options.add_argument('--headless')\n",
    "options.add_argument('--no-sandbox')\n",
    "options.add_argument('--disable-dev-shm-usage')\n",
    "driver = webdriver.Chrome('/home/omarmohamed/myprojectdir/chromedriver',options=options)\n",
    "driver.get('https://www.careerbuilder.com/browse')\n",
    "\n",
    "dict_={}\n",
    "for j in range(len(driver.find_elements_by_class_name('pb0'))):\n",
    "    WebDriverWait(driver,20).until(EC.presence_of_all_elements_located((By.CLASS_NAME,'pb0')))\n",
    "    page_browse= driver.find_elements_by_class_name('pb0')\n",
    "    industry=page_browse[j].text\n",
    "    page_browse[j].click()\n",
    "    WebDriverWait(driver,20).until(EC.presence_of_all_elements_located((By.CLASS_NAME,'link-cta')))\n",
    "    driver.find_elements_by_class_name(\"link-cta\")[0].click()\n",
    "    WebDriverWait(driver,20).until(EC.presence_of_all_elements_located((By.CLASS_NAME,'col-2.layout-results')))\n",
    "    while(len(driver.find_elements_by_class_name('btn.btn-clear.btn-clear-blue.b-i'))):\n",
    "        try:\n",
    "            WebDriverWait(driver,5).until(EC.element_to_be_clickable((By.CLASS_NAME,'btn.btn-clear.btn-clear-blue.b-i')))\n",
    "            driver.find_elements_by_class_name('btn.btn-clear.btn-clear-blue.b-i')[0].click()\n",
    "        except:\n",
    "            break\n",
    "    time.sleep(2)\n",
    "    jobs=driver.find_elements_by_class_name(\"col-2.layout-results\")\n",
    "    print(len(jobs))\n",
    "    for i in range(4,len(jobs)):\n",
    "        ul_ls=[]\n",
    "        WebDriverWait(driver,20).until(EC.presence_of_all_elements_located((By.CLASS_NAME,'col-2.layout-results')))\n",
    "        driver.find_elements_by_class_name(\"col-2.layout-results\")[i].click()\n",
    "        time.sleep(3)\n",
    "        parh=driver.find_elements_by_class_name('col.big.col-mobile-full')[1]\n",
    "        time.sleep(4)\n",
    "        ul_ls = parh.find_elements_by_tag_name('ul')\n",
    "        try:\n",
    "            print(len(ul_ls))\n",
    "            if len(ul_ls):\n",
    "                req=ul_ls[-1]\n",
    "                Req=req.text.split('\\n')\n",
    "                dict_['requirements']=Req\n",
    "                \n",
    "\n",
    "\n",
    "            else:\n",
    "                Req=clean_req(parh)\n",
    "                dict_['requirements']=Req\n",
    "                #Req=parh.text.split('\\n')\n",
    "\n",
    "        except ValueError:\n",
    "            print(\"Error in Requirments {\\d}\".format(Flag_stop))\n",
    "        print(\"22\")\n",
    "        recomended_skills=driver.find_elements_by_class_name('check-bubble')\n",
    "        driver.implicitly_wait(1)\n",
    "        header = driver.find_elements_by_class_name('data-display-header_content')[0]\n",
    "        driver.implicitly_wait(1)\n",
    "        try:\n",
    "            company_name=header.find_elements_by_tag_name('span')[0].text\n",
    "        except:\n",
    "            company_name=\"not found\"\n",
    "        driver.implicitly_wait(1)\n",
    "        try:\n",
    "            location=header.find_elements_by_tag_name('span')[1].text\n",
    "        except:\n",
    "            location=\"not found\"\n",
    "        driver.implicitly_wait(1)\n",
    "        try:\n",
    "            job_type=header.find_elements_by_tag_name('span')[2].text\n",
    "        except:\n",
    "            job_type=\"not found\"\n",
    "        \n",
    "        driver.implicitly_wait(1)\n",
    "        title=header.find_elements_by_tag_name('h1')[0].text\n",
    "\n",
    "\n",
    "        try:\n",
    "\n",
    "            dict_[\"title\"]=title\n",
    "            dict_['location']=location\n",
    "            driver.implicitly_wait(1)\n",
    "            skills=selnuim_to_text(recomended_skills)\n",
    "            dict_['skills']=skills\n",
    "            dict_['industry']=industry\n",
    "            dict_['company_name']=company_name\n",
    "            dict_['job_type']=job_type\n",
    "            dict_['_id']=Flag_id\n",
    "\n",
    "        except Exception as e:\n",
    "            logf.write(\"Failed to Scraping {0}:\".format(str(Flag_stop)))\n",
    "        try:\n",
    "            collection.insert_one(dict_)\n",
    "        except ValueError:\n",
    "\n",
    "            logf.write(\"Failed insert to DB\")\n",
    "        Flag_stop_jobs+=1\n",
    "        Flag_id+=1\n",
    "        driver.implicitly_wait(2)\n",
    "    driver.back()\n",
    "    driver.back()\n",
    "    Flag_pages_stop+=1\n"
   ]
  },
  {
   "cell_type": "code",
   "execution_count": null,
   "metadata": {},
   "outputs": [],
   "source": []
  },
  {
   "cell_type": "code",
   "execution_count": null,
   "metadata": {},
   "outputs": [],
   "source": []
  },
  {
   "cell_type": "code",
   "execution_count": null,
   "metadata": {},
   "outputs": [],
   "source": []
  },
  {
   "cell_type": "code",
   "execution_count": null,
   "metadata": {},
   "outputs": [],
   "source": []
  },
  {
   "cell_type": "code",
   "execution_count": null,
   "metadata": {},
   "outputs": [],
   "source": []
  },
  {
   "cell_type": "code",
   "execution_count": null,
   "metadata": {},
   "outputs": [],
   "source": []
  },
  {
   "cell_type": "code",
   "execution_count": null,
   "metadata": {},
   "outputs": [],
   "source": []
  },
  {
   "cell_type": "code",
   "execution_count": null,
   "metadata": {},
   "outputs": [],
   "source": []
  },
  {
   "cell_type": "code",
   "execution_count": null,
   "metadata": {},
   "outputs": [],
   "source": []
  },
  {
   "cell_type": "code",
   "execution_count": null,
   "metadata": {},
   "outputs": [],
   "source": []
  },
  {
   "cell_type": "code",
   "execution_count": null,
   "metadata": {},
   "outputs": [],
   "source": []
  },
  {
   "cell_type": "code",
   "execution_count": null,
   "metadata": {},
   "outputs": [],
   "source": []
  },
  {
   "cell_type": "code",
   "execution_count": null,
   "metadata": {},
   "outputs": [],
   "source": []
  },
  {
   "cell_type": "code",
   "execution_count": null,
   "metadata": {},
   "outputs": [],
   "source": []
  },
  {
   "cell_type": "code",
   "execution_count": null,
   "metadata": {},
   "outputs": [],
   "source": []
  },
  {
   "cell_type": "code",
   "execution_count": null,
   "metadata": {},
   "outputs": [],
   "source": []
  },
  {
   "cell_type": "code",
   "execution_count": null,
   "metadata": {},
   "outputs": [],
   "source": []
  }
 ],
 "metadata": {
  "kernelspec": {
   "display_name": "Python 3",
   "language": "python",
   "name": "python3"
  },
  "language_info": {
   "codemirror_mode": {
    "name": "ipython",
    "version": 3
   },
   "file_extension": ".py",
   "mimetype": "text/x-python",
   "name": "python",
   "nbconvert_exporter": "python",
   "pygments_lexer": "ipython3",
   "version": "3.7.3"
  }
 },
 "nbformat": 4,
 "nbformat_minor": 4
}
